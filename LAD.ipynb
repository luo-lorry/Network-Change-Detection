{
 "cells": [
  {
   "cell_type": "code",
   "execution_count": 198,
   "id": "4b16a7b2",
   "metadata": {},
   "outputs": [],
   "source": [
    "import numpy as np\n",
    "import matplotlib.pyplot as plt\n",
    "import networkx as nx\n",
    "from scipy.sparse.linalg import svds\n",
    "from sklearn.preprocessing import normalize\n",
    "from sklearn.metrics.pairwise import cosine_similarity\n",
    "\n",
    "import warnings\n",
    "warnings.simplefilter(action='ignore', category=FutureWarning)"
   ]
  },
  {
   "cell_type": "markdown",
   "id": "8e3fa36b",
   "metadata": {},
   "source": [
    "## functions to generate dynamic SBM according to changepoints "
   ]
  },
  {
   "cell_type": "code",
   "execution_count": 253,
   "id": "dc9b3595",
   "metadata": {},
   "outputs": [],
   "source": [
    "def create_SBM_parameters(n=50, p11=0.25, p12=0.05, minimum_average_node_per_block=5):\n",
    "    num_blocks = 2 ** np.arange(np.log(n // minimum_average_node_per_block) / np.log(2))\n",
    "    num_blocks = num_blocks.astype(int)\n",
    "    size_prob_parameters = []\n",
    "    for n_block in num_blocks:\n",
    "        sizes = [n // n_block] * (n_block - 1)\n",
    "        sizes.append(n - sum(sizes))\n",
    "        p = (p11 - p12) * np.eye(n_block) + p12 * np.ones((n_block, n_block))\n",
    "        size_prob_parameters.append([sizes, p])\n",
    "        \n",
    "    return size_prob_parameters"
   ]
  },
  {
   "cell_type": "code",
   "execution_count": 226,
   "id": "0c3a22b8",
   "metadata": {},
   "outputs": [],
   "source": [
    "def generate_snapshot_on_consecutive_networks(G_old, G_new, alpha=0):\n",
    "    if alpha == 0:\n",
    "        return G_old\n",
    "    if alpha == 1:\n",
    "        return G_new\n",
    "    return nx.from_edgelist([edge for u, edge in zip(np.random.rand(G_old.number_of_edges()), nx.to_edgelist(G_old)) if u < alpha] + \\\n",
    "                            [edge for u, edge in zip(np.random.rand(G_new.number_of_edges()), nx.to_edgelist(G_new)) if u > alpha])"
   ]
  },
  {
   "cell_type": "code",
   "execution_count": 242,
   "id": "951dd6dd",
   "metadata": {},
   "outputs": [],
   "source": [
    "def generate_dynamic_SBM(T=100, cps=None, n=50, p11=0.25, p12=0.05, alpha=0, directed=False):\n",
    "    if cps is None:\n",
    "        cps = [T//2]\n",
    "    cps.sort()\n",
    "    cp_counter = 0\n",
    "    G_prev = None\n",
    "    G_curr = None\n",
    "    G_list = []\n",
    "    size_prob_parameters = create_SBM_parameters(n, p11, p12)\n",
    "    size_prob_index_prev = None\n",
    "    size_prob_index_curr = np.random.choice(len(size_prob_parameters))\n",
    "    for t in range(T):\n",
    "        cp = False\n",
    "        if cp_counter < len(cps) and t == cps[cp_counter]:\n",
    "            cp = True\n",
    "            if size_prob_index_prev is None:\n",
    "                size_prob_index_prev = size_prob_index_curr\n",
    "            while size_prob_index_curr == size_prob_index_prev:\n",
    "                size_prob_index_curr = np.random.choice(len(size_prob_parameters))\n",
    "            cp_counter += 1\n",
    "        \n",
    "        sizes, p = size_prob_parameters[size_prob_index_curr]\n",
    "        G_curr = nx.stochastic_block_model(sizes, p, directed=directed)\n",
    "        if G_prev is not None and cp == False:\n",
    "            G_curr = generate_snapshot_on_consecutive_networks(G_prev, G_curr, alpha)\n",
    "        G_list.append(G_curr)\n",
    "        G_prev = G_curr\n",
    "    \n",
    "    return G_list, cps"
   ]
  },
  {
   "cell_type": "markdown",
   "id": "762eb66f",
   "metadata": {},
   "source": [
    "## functions to compute z-scores based on the Laplacian eigenvalues and detect changepoints"
   ]
  },
  {
   "cell_type": "code",
   "execution_count": 228,
   "id": "bcdac272",
   "metadata": {},
   "outputs": [],
   "source": [
    "def compute_z_score_single(curr_vec, typical_vec):\n",
    "    if len(curr_vec.shape) != 2:\n",
    "        curr_vec = curr_vec.reshape(1, -1)\n",
    "    if len(typical_vec.shape) != 2:\n",
    "        typical_vec = typical_vec.reshape(1, -1)    \n",
    "    return 1 - np.abs(cosine_similarity(curr_vec, typical_vec))"
   ]
  },
  {
   "cell_type": "code",
   "execution_count": 264,
   "id": "b762682c",
   "metadata": {},
   "outputs": [],
   "source": [
    "def compute_typical_vector_from_window(eigenvalue_list_window, principal=True):\n",
    "    if principal == False:\n",
    "        return np.mean(eigenvalue_list_window, axis=0)\n",
    "    eigenvalue_list_window = eigenvalue_list_window.T # transpose so that time is along the 1-axis\n",
    "    u, _, _ = np.linalg.svd(eigenvalue_list_window, full_matrices=False)\n",
    "    return u[:, 0]"
   ]
  },
  {
   "cell_type": "code",
   "execution_count": 230,
   "id": "f1c28d10",
   "metadata": {},
   "outputs": [],
   "source": [
    "def compute_z_score_sequence_two_windows(eigenvalue_list, principal=True, window1=None, window2=None, initial_window=None, difference=True):\n",
    "    T = eigenvalue_list.shape[0]\n",
    "    if initial_window is None:\n",
    "        initial_window = T // 20\n",
    "    if window1 is None:\n",
    "        window1 = T // 100\n",
    "    if window2 is None:\n",
    "        window2 = T // 50\n",
    "    if initial_window < max(window1, window2):\n",
    "        initial_window = max(window1, window2)\n",
    "    \n",
    "    z1_list = np.zeros(T)\n",
    "    z2_list = np.zeros(T)\n",
    "    for t in range(initial_window, T):\n",
    "        typical_vec = compute_typical_vector_from_window(eigenvalue_list[t-window1:t], principal=principal)\n",
    "        z1 = compute_z_score_single(eigenvalue_list[t], typical_vec)\n",
    "        typical_vec = compute_typical_vector_from_window(eigenvalue_list[t-window2:t], principal=principal)\n",
    "        z2 = compute_z_score_single(eigenvalue_list[t], typical_vec)\n",
    "        z1_list[t] = z1\n",
    "        z2_list[t] = z2\n",
    "    \n",
    "    if difference:\n",
    "        z1_list = np.diff(z1_list, prepend=0)\n",
    "        z2_list = np.diff(z2_list, prepend=0)\n",
    "    z_list = np.maximum(z1_list, z2_list)\n",
    "    return z_list"
   ]
  },
  {
   "cell_type": "code",
   "execution_count": 256,
   "id": "104310fd",
   "metadata": {},
   "outputs": [],
   "source": [
    "def LAD(G_list, cps, num_eigens=None, directed=False, num_detections=None, principal=True, window1=None, window2=None, initial_window=None, difference=True):\n",
    "    if num_eigens is None:\n",
    "        num_eigens = G_list[0].number_of_nodes() // 10\n",
    "    if num_detections is None:\n",
    "        num_detections = len(G_list) // 100\n",
    "    eigenvalue_list = np.zeros((len(G_list), num_eigens), dtype=float)\n",
    "    for t, G_t in enumerate(G_list):\n",
    "        if directed:\n",
    "            L_t = nx.directed_laplacian_matrix(G_t)\n",
    "        else:\n",
    "            L_t = nx.laplacian_matrix(G_t).asfptype()\n",
    "        vecs, vals, _ = svds(L_t, k=num_eigens, which=\"LM\")\n",
    "#         max_val_index = np.argsort(vals)[-1]\n",
    "#         max_eigenvector_list[t] = vecs[:, max_val_index]\n",
    "        eigenvalue_list[t] = vals\n",
    "    eigenvalue_list = eigenvalue_list.real\n",
    "    eigenvalue_list = normalize(eigenvalue_list, norm='l2')\n",
    "    \n",
    "    z_list = compute_z_score_sequence_two_windows(eigenvalue_list, principal=principal, window1=window1, window2=window2, initial_window=initial_window, difference=difference)\n",
    "    cps_LAD = z_list.argsort()[::-1][:num_detections]\n",
    "    accuracy = len(set(cps).intersection(set(cps_LAD))) / len(cps)\n",
    "    return accuracy, cps_LAD"
   ]
  },
  {
   "cell_type": "markdown",
   "id": "5123f251",
   "metadata": {},
   "source": [
    "## test the code"
   ]
  },
  {
   "cell_type": "code",
   "execution_count": 206,
   "id": "6838d787",
   "metadata": {
    "scrolled": true
   },
   "outputs": [
    {
     "name": "stdout",
     "output_type": "stream",
     "text": [
      "1.0\n"
     ]
    }
   ],
   "source": [
    "G_list, cp_list = generate_dynamic_SBM(100)\n",
    "accuracy, _ = LAD(G_list, cp_list)\n",
    "print(accuracy)"
   ]
  },
  {
   "cell_type": "code",
   "execution_count": 266,
   "id": "c2feb148",
   "metadata": {},
   "outputs": [
    {
     "name": "stdout",
     "output_type": "stream",
     "text": [
      "60 steps (change points: [20, 50])\n",
      "------ Test 1 ---------\n",
      "[principal: True; difference: True] : accuracy 1.0\n",
      "------ Test 2 ---------\n",
      "[principal: True; difference: False] : accuracy 0.5\n",
      "------ Test 3 ---------\n",
      "[principal: True; difference: True] : accuracy 0.5\n",
      "------ Test 4 ---------\n",
      "[principal: False; difference: True] : accuracy 1.0\n"
     ]
    }
   ],
   "source": [
    "T = 60; cps = [20, 50]; n = 50; directed = True\n",
    "G_list, cps = generate_dynamic_SBM(T, cps, n, directed=directed)\n",
    "test_inputs = [(20, 2, True, 2, 4, 5, True), \n",
    "               (20, 2, True, 2, 4, 5, False), \n",
    "               (20, 1, True, 2, 4, 5, True), \n",
    "               (10, 2, False, 4, 10, 10, True)]\n",
    "print(f\"{T} steps (change points: {cps})\")\n",
    "for i, x in enumerate(test_inputs):\n",
    "    print(f\"------ Test {i+1} ---------\")\n",
    "    num_eigens, num_detections, principal, window1, window2, initial_window, difference = x\n",
    "    accuracy, _ = LAD(G_list, cps, num_eigens=num_eigens, directed=directed, num_detections=num_detections, principal=principal, window1=window1, window2=window2, initial_window=initial_window, difference=difference)\n",
    "    print(f\"[principal: {principal}; difference: {difference}] : accuracy {accuracy}\")"
   ]
  },
  {
   "cell_type": "code",
   "execution_count": 272,
   "id": "33488285",
   "metadata": {},
   "outputs": [
    {
     "name": "stdout",
     "output_type": "stream",
     "text": [
      "------ Test 1: 128 nodes, 110 steps, 8 cps, directed: False  ---------\n",
      "accuracy: 0.875\n",
      "------ Test 2: 32 nodes, 200 steps, 3 cps, directed: True  ---------\n",
      "accuracy: 1.0\n",
      "------ Test 3: 512 nodes, 1100 steps, 9 cps, directed: True  ---------\n",
      "accuracy: 1.0\n",
      "------ Test 4: 32 nodes, 110 steps, 6 cps, directed: False  ---------\n",
      "accuracy: 1.0\n",
      "------ Test 5: 128 nodes, 200 steps, 7 cps, directed: False  ---------\n",
      "accuracy: 0.8571428571428571\n"
     ]
    }
   ],
   "source": [
    "num_eigens = 20\n",
    "window1 = 5\n",
    "window2 = 10\n",
    "initial_window = 20\n",
    "difference = True\n",
    "principal = True\n",
    "\n",
    "\n",
    "for i in range(5):\n",
    "    T = 100 + 10 ** np.random.randint(4)\n",
    "    num_cps = 2 ** np.random.randint(1, 4)\n",
    "    cps = np.random.choice(np.arange(20, T), num_cps, replace=False)\n",
    "    n = 2 ** np.random.randint(5, 10)\n",
    "    directed = np.random.rand() > 0.5\n",
    "    G_list, cps = generate_dynamic_SBM(T, cps, n, directed=directed)\n",
    "    print(f\"------ Test {i+1}: {n} nodes, {T} steps, {num_cps} cps, directed: {directed}  ---------\")\n",
    "    accuracy, _ = LAD(G_list, cps, num_eigens=num_eigens, directed=directed, num_detections=num_cps, principal=principal, window1=window1, window2=window2, initial_window=initial_window, difference=difference)\n",
    "    print(f\"accuracy: {accuracy}\")"
   ]
  },
  {
   "cell_type": "code",
   "execution_count": 277,
   "id": "b74df139",
   "metadata": {},
   "outputs": [
    {
     "name": "stdout",
     "output_type": "stream",
     "text": [
      "------ Test 1: 64 nodes, 110 steps, 64 cps, directed: True  ---------\n",
      "accuracy: 0.625\n",
      "------ Test 2: 256 nodes, 200 steps, 32 cps, directed: True  ---------\n",
      "accuracy: 0.84375\n",
      "------ Test 3: 128 nodes, 101 steps, 16 cps, directed: True  ---------\n",
      "accuracy: 0.75\n",
      "------ Test 4: 64 nodes, 1100 steps, 64 cps, directed: True  ---------\n",
      "accuracy: 0.96875\n",
      "------ Test 5: 256 nodes, 101 steps, 32 cps, directed: False  ---------\n",
      "accuracy: 0.75\n"
     ]
    }
   ],
   "source": [
    "num_eigens = 10\n",
    "window1 = 5\n",
    "window2 = 10\n",
    "initial_window = 20\n",
    "difference = True\n",
    "principal = True\n",
    "\n",
    "\n",
    "for i in range(5):\n",
    "    T = 100 + 10 ** np.random.randint(4)\n",
    "    num_cps = 2 ** np.random.randint(4, 7)\n",
    "    cps = np.random.choice(np.arange(20, T), num_cps, replace=False)\n",
    "    n = 2 ** np.random.randint(4, 9)\n",
    "    directed = np.random.rand() > 0.5\n",
    "    G_list, cps = generate_dynamic_SBM(T, cps, n, directed=directed)\n",
    "    print(f\"------ Test {i+1}: {n} nodes, {T} steps, {num_cps} cps, directed: {directed}  ---------\")\n",
    "    accuracy, _ = LAD(G_list, cps, num_eigens=num_eigens, directed=directed, num_detections=num_cps, principal=principal, window1=window1, window2=window2, initial_window=initial_window, difference=difference)\n",
    "    print(f\"accuracy: {accuracy}\")"
   ]
  },
  {
   "cell_type": "markdown",
   "id": "3d9928ef",
   "metadata": {},
   "source": [
    "## use ipytest to check if the code returns reasonable results"
   ]
  },
  {
   "cell_type": "code",
   "execution_count": 245,
   "id": "a1f93910",
   "metadata": {},
   "outputs": [],
   "source": [
    "cps_list = [None, [20, 50]]\n",
    "T_list = [None, 60]\n",
    "num_eigens_list=[None, 20]\n",
    "directed_list=[False, True]\n",
    "num_detections_list=[None, 1, 2]\n",
    "principal_list=[True]\n",
    "window1_list=[None]\n",
    "window2_list=[None]\n",
    "initial_window_list=[None]\n",
    "difference_list=[True, False]\n"
   ]
  },
  {
   "cell_type": "code",
   "execution_count": 248,
   "id": "3c9272f3",
   "metadata": {},
   "outputs": [],
   "source": [
    "import pytest\n",
    "import ipytest\n",
    "ipytest.autoconfig()\n",
    "import itertools\n",
    "\n",
    "test_inputs = list(itertools.product(cps_list, T_list, num_eigens_list, directed_list, num_detections_list, principal_list, window1_list, window2_list, initial_window_list, difference_list))\n",
    "print(len(test_inputs))\n",
    "\n",
    "def f_test(x):\n",
    "    cps, T, num_eigens, directed, num_detections, principal, window1, window2, initial_window, difference = x\n",
    "    G_list, cps = generate_dynamic_SBM(T, cps)\n",
    "    accuracy, _ = LAD(G_list, cps, num_eigens=num_eigens, directed=directed, num_detections=num_detections, principal=principal, window1=window1, window2=window2, initial_window=initial_window, difference=difference)\n",
    "    return accuracy\n",
    "\n",
    "@pytest.mark.parametrize(\"test_input\", test_inputs)\n",
    "def test_eval(test_input, expected=None):\n",
    "    result = f_test(test_input)\n",
    "    print(test_input, result)\n",
    "    assert result is not None and result <= 1 and result >= 0\n",
    "    \n",
    "ipytest.run()"
   ]
  },
  {
   "cell_type": "code",
   "execution_count": null,
   "id": "c5beb03e",
   "metadata": {},
   "outputs": [],
   "source": []
  },
  {
   "cell_type": "code",
   "execution_count": null,
   "id": "e8211d69",
   "metadata": {},
   "outputs": [],
   "source": []
  },
  {
   "cell_type": "code",
   "execution_count": null,
   "id": "667217d9",
   "metadata": {},
   "outputs": [],
   "source": []
  }
 ],
 "metadata": {
  "kernelspec": {
   "display_name": "Python 3 (ipykernel)",
   "language": "python",
   "name": "python3"
  },
  "language_info": {
   "codemirror_mode": {
    "name": "ipython",
    "version": 3
   },
   "file_extension": ".py",
   "mimetype": "text/x-python",
   "name": "python",
   "nbconvert_exporter": "python",
   "pygments_lexer": "ipython3",
   "version": "3.9.13"
  }
 },
 "nbformat": 4,
 "nbformat_minor": 5
}
